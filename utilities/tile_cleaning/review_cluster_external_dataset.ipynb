{
 "cells": [
  {
   "cell_type": "code",
   "execution_count": 1,
   "id": "d937b826",
   "metadata": {
    "pycharm": {
     "name": "#%%\n"
    }
   },
   "outputs": [
    {
     "name": "stderr",
     "output_type": "stream",
     "text": [
      "/tmp/ipykernel_26319/670688425.py:2: DeprecationWarning: Importing display from IPython.core.display is deprecated since IPython 7.14, please import from IPython display\n",
      "  from IPython.core.display import display, HTML\n"
     ]
    },
    {
     "data": {
      "text/html": [
       "<style>.container { width:90% !important; }</style>"
      ],
      "text/plain": [
       "<IPython.core.display.HTML object>"
      ]
     },
     "metadata": {},
     "output_type": "display_data"
    },
    {
     "name": "stderr",
     "output_type": "stream",
     "text": [
      "/mnt/cephfs/home/users/fshahi/miniconda3/envs/HPL/lib/python3.8/site-packages/umap/distances.py:1063: NumbaDeprecationWarning: The 'nopython' keyword argument was not supplied to the 'numba.jit' decorator. The implicit default value for this argument is currently False, but it will be changed to True in Numba 0.59.0. See https://numba.readthedocs.io/en/stable/reference/deprecation.html#deprecation-of-object-mode-fall-back-behaviour-when-using-jit for details.\n",
      "  @numba.jit()\n",
      "/mnt/cephfs/home/users/fshahi/miniconda3/envs/HPL/lib/python3.8/site-packages/umap/distances.py:1071: NumbaDeprecationWarning: The 'nopython' keyword argument was not supplied to the 'numba.jit' decorator. The implicit default value for this argument is currently False, but it will be changed to True in Numba 0.59.0. See https://numba.readthedocs.io/en/stable/reference/deprecation.html#deprecation-of-object-mode-fall-back-behaviour-when-using-jit for details.\n",
      "  @numba.jit()\n",
      "/mnt/cephfs/home/users/fshahi/miniconda3/envs/HPL/lib/python3.8/site-packages/umap/distances.py:1086: NumbaDeprecationWarning: The 'nopython' keyword argument was not supplied to the 'numba.jit' decorator. The implicit default value for this argument is currently False, but it will be changed to True in Numba 0.59.0. See https://numba.readthedocs.io/en/stable/reference/deprecation.html#deprecation-of-object-mode-fall-back-behaviour-when-using-jit for details.\n",
      "  @numba.jit()\n",
      "/mnt/cephfs/home/users/fshahi/miniconda3/envs/HPL/lib/python3.8/site-packages/tqdm/auto.py:21: TqdmWarning: IProgress not found. Please update jupyter and ipywidgets. See https://ipywidgets.readthedocs.io/en/stable/user_install.html\n",
      "  from .autonotebook import tqdm as notebook_tqdm\n",
      "/mnt/cephfs/home/users/fshahi/miniconda3/envs/HPL/lib/python3.8/site-packages/umap/umap_.py:660: NumbaDeprecationWarning: The 'nopython' keyword argument was not supplied to the 'numba.jit' decorator. The implicit default value for this argument is currently False, but it will be changed to True in Numba 0.59.0. See https://numba.readthedocs.io/en/stable/reference/deprecation.html#deprecation-of-object-mode-fall-back-behaviour-when-using-jit for details.\n",
      "  @numba.jit()\n",
      "2023-11-24 22:49:04.717003: I tensorflow/stream_executor/platform/default/dso_loader.cc:50] Successfully opened dynamic library libcudart.so.12\n"
     ]
    },
    {
     "name": "stdout",
     "output_type": "stream",
     "text": [
      "WARNING:tensorflow:Deprecation warnings have been disabled. Set TF_ENABLE_DEPRECATION_WARNINGS=1 to re-enable them.\n"
     ]
    },
    {
     "name": "stderr",
     "output_type": "stream",
     "text": [
      "WARNING:root:Limited tf.compat.v2.summary API due to missing TensorBoard installation.\n"
     ]
    }
   ],
   "source": [
    "# Imports notebook size.\n",
    "from IPython.core.display import display, HTML\n",
    "display(HTML(\"<style>.container { width:90% !important; }</style>\"))\n",
    "\n",
    "from mpl_toolkits.axes_grid1 import ImageGrid\n",
    "import matplotlib.pyplot as plt\n",
    "import pandas as pd\n",
    "import scanpy as sc\n",
    "import anndata\n",
    "import random\n",
    "import umap\n",
    "\n",
    "# Own libraries\n",
    "import sys\n",
    "sys.path.append('/mnt/cephfs/sharedscratch/users/fshahi/Projects/Histomorphological-Phenotype-Learning')\n",
    "from data_manipulation.data import Data\n",
    "from data_manipulation.utils import store_data\n",
    "from models.evaluation.folds import load_existing_split\n",
    "from models.clustering.data_processing import *\n",
    "from models.clustering.leiden_representations import assign_clusters\n"
   ]
  },
  {
   "cell_type": "code",
   "execution_count": 2,
   "id": "316598cb",
   "metadata": {
    "pycharm": {
     "name": "#%%\n"
    }
   },
   "outputs": [
    {
     "name": "stdout",
     "output_type": "stream",
     "text": [
      "Meso_500\n",
      "Number of samples: 3103767\n"
     ]
    }
   ],
   "source": [
    "dbs_path = '/mnt/cephfs/sharedscratch/users/fshahi/Projects/Histomorphological-Phenotype-Learning'\n",
    "dataset  = 'Meso_500'\n",
    "# Reference cluster for background/unfocused tiles.\n",
    "Main_dataset = 'Meso_400_subsampled'\n",
    "meta_folder = 'removal'\n",
    "fold    = 4\n",
    "data = Data(dataset=dataset, marker='he', patch_h=224, patch_w=224, n_channels=3, batch_size=64, project_path=dbs_path)\n",
    "print('Number of samples:', data.training.images.shape[0]+data.validation.images.shape[0]+data.test.images.shape[0])"
   ]
  },
  {
   "cell_type": "markdown",
   "id": "51c025a9",
   "metadata": {},
   "source": [
    "## Add H5ad for addiotional dataset"
   ]
  },
  {
   "cell_type": "code",
   "execution_count": 3,
   "id": "3ba9de37",
   "metadata": {},
   "outputs": [
    {
     "name": "stdout",
     "output_type": "stream",
     "text": [
      "Loading representations: /mnt/cephfs/sharedscratch/users/fshahi/Projects/Histomorphological-Phenotype-Learning/results/BarlowTwins_3/Meso_500/h224_w224_n3_zdim128/hdf5_Meso_500_he_complete_metadata.h5\n",
      "Keys: <KeysViewHDF5 ['Meso_type', 'Sex', 'case_Id', 'desmoplastic_component', 'hist_subtype', 'img_h_latent', 'img_z_latent', 'indexes', 'labels', 'original_set', 'os_event_data', 'os_event_ind', 'patterns', 'recurrence', 'samples', 'slides', 'smoking_history', 'stage', 'tiles', 'time_to_recurrence', 'type', 'wcc_score']>\n",
      "Number of samples: 3103767\n"
     ]
    }
   ],
   "source": [
    "h5_additional_rep_path = '{}/results/BarlowTwins_3/{}/h224_w224_n3_zdim128/hdf5_{}_he_complete_metadata.h5'.format(dbs_path, dataset, dataset)\n",
    "meta_field             = 'Meso_type'\n",
    "rep_key                = 'z_latent'\n",
    "\n",
    "additional_frame, additional_dims, additional_rest = representations_to_frame(h5_additional_rep_path, meta_field=meta_field, rep_key=rep_key)\n",
    "print('Number of samples:', additional_frame.shape[0])"
   ]
  },
  {
   "cell_type": "code",
   "execution_count": null,
   "id": "f5ca03cb",
   "metadata": {},
   "outputs": [],
   "source": []
  },
  {
   "cell_type": "code",
   "execution_count": 11,
   "id": "800655d0",
   "metadata": {
    "pycharm": {
     "name": "#%%\n"
    }
   },
   "outputs": [
    {
     "data": {
      "text/plain": [
       "AnnData object with n_obs × n_vars = 200000 × 128\n",
       "    obs: 'case_number', 'hist_subtype', 'indexes', 'labels', 'original_set', 'os_event_data', 'os_event_ind', 'patterns', 'samples', 'slides', 'stage', 'tiles', 'type', 'leiden_5.0'\n",
       "    uns: 'leiden', 'nn_leiden', 'pca'\n",
       "    obsm: 'X_pca'\n",
       "    varm: 'PCs'\n",
       "    obsp: 'nn_leiden_connectivities', 'nn_leiden_distances'"
      ]
     },
     "execution_count": 11,
     "metadata": {},
     "output_type": "execute_result"
    }
   ],
   "source": [
    "anndata_path = '{}/results/BarlowTwins_3/{}/h224_w224_n3_zdim128/{}/adatas/{}_he_complete_combined_metadata_leiden_5p0__fold{}_subsample.h5ad'.format(dbs_path, Main_dataset, meta_folder, Main_dataset, fold)\n",
    "adata = sc.read_h5ad(anndata_path)\n",
    "adata\n"
   ]
  },
  {
   "cell_type": "code",
   "execution_count": 12,
   "id": "abb27ab8",
   "metadata": {
    "pycharm": {
     "name": "#%%\n"
    }
   },
   "outputs": [],
   "source": [
    "groupby = [column for column in adata.obs.columns if 'leiden' in column][0]\n"
   ]
  },
  {
   "cell_type": "code",
   "execution_count": 13,
   "id": "1992b79e",
   "metadata": {
    "pycharm": {
     "name": "#%%\n"
    }
   },
   "outputs": [
    {
     "name": "stderr",
     "output_type": "stream",
     "text": [
      "/mnt/cephfs/home/users/fshahi/miniconda3/envs/HPL/lib/python3.8/site-packages/anndata/_core/anndata.py:121: ImplicitModificationWarning: Transforming to str index.\n",
      "  warnings.warn(\"Transforming to str index.\", ImplicitModificationWarning)\n",
      "/mnt/cephfs/home/users/fshahi/miniconda3/envs/HPL/lib/python3.8/site-packages/numba/np/ufunc/parallel.py:371: NumbaWarning: The TBB threading layer requires TBB version 2021 update 6 or later i.e., TBB_INTERFACE_VERSION >= 12060. Found TBB_INTERFACE_VERSION = 12050. The TBB threading layer is disabled.\n",
      "  warnings.warn(problem)\n"
     ]
    }
   ],
   "source": [
    "additional_adata  = anndata.AnnData(X=additional_frame[additional_dims].to_numpy(), obs=additional_frame[additional_rest].astype('category'))\n",
    "sc.tl.ingest(additional_adata, adata, obs=groupby, embedding_method='pca', neighbors_key='nn_leiden')\n",
    "additional_adata.write_h5ad('{}/results/BarlowTwins_3/{}/h224_w224_n3_zdim128/{}/adatas/{}_he_complete_combined_metadata_{}__fold{}_subsample.h5ad'.format(dbs_path, dataset, meta_folder, dataset, groupby.replace('.','p') ,fold))\n",
    "additional_adata\n"
   ]
  },
  {
   "cell_type": "code",
   "execution_count": 19,
   "id": "e5805f2b",
   "metadata": {
    "pycharm": {
     "name": "#%%\n"
    },
    "scrolled": true
   },
   "outputs": [
    {
     "name": "stdout",
     "output_type": "stream",
     "text": [
      "Cluster 0 Number of samples: 1770\n",
      "\n",
      "\n",
      "\n",
      "Cluster 1 Number of samples: 3311\n",
      "\n",
      "\n",
      "\n",
      "Cluster 2 Number of samples: 910\n",
      "\n",
      "\n",
      "\n",
      "Cluster 3 Number of samples: 1431\n",
      "\n",
      "\n",
      "\n",
      "Cluster 4 Number of samples: 117\n",
      "\n",
      "\n",
      "\n",
      "Cluster 5 Number of samples: 1937\n",
      "\n",
      "\n",
      "\n",
      "Cluster 6 Number of samples: 1284\n",
      "\n",
      "\n",
      "\n",
      "Cluster 7 Number of samples: 1279\n",
      "\n",
      "\n",
      "\n",
      "Cluster 8 Number of samples: 1803\n",
      "\n",
      "\n",
      "\n",
      "Cluster 9 Number of samples: 992\n",
      "\n",
      "\n",
      "\n",
      "Cluster 10 Number of samples: 1176\n",
      "\n",
      "\n",
      "\n",
      "Cluster 11 Number of samples: 2016\n",
      "\n",
      "\n",
      "\n",
      "Cluster 12 Number of samples: 1749\n",
      "\n",
      "\n",
      "\n",
      "Cluster 13 Number of samples: 749\n",
      "\n",
      "\n",
      "\n",
      "Cluster 14 Number of samples: 2564\n",
      "\n",
      "\n",
      "\n",
      "Cluster 15 Number of samples: 1191\n",
      "\n",
      "\n",
      "\n",
      "Cluster 16 Number of samples: 749\n",
      "\n",
      "\n",
      "\n",
      "Cluster 17 Number of samples: 1035\n",
      "\n",
      "\n",
      "\n",
      "Cluster 18 Number of samples: 1193\n",
      "\n",
      "\n",
      "\n",
      "Cluster 19 Number of samples: 2553\n",
      "\n",
      "\n",
      "\n",
      "Cluster 20 Number of samples: 1218\n",
      "\n",
      "\n",
      "\n",
      "Cluster 21 Number of samples: 597\n",
      "\n",
      "\n",
      "\n",
      "Cluster 22 Number of samples: 584\n",
      "\n",
      "\n",
      "\n",
      "Cluster 23 Number of samples: 1363\n",
      "\n",
      "\n",
      "\n",
      "Cluster 24 Number of samples: 1210\n",
      "\n",
      "\n",
      "\n",
      "Cluster 25 Number of samples: 2271\n",
      "\n",
      "\n",
      "\n",
      "Cluster 26 Number of samples: 56\n",
      "\n",
      "\n",
      "\n",
      "Cluster 27 Number of samples: 31\n",
      "\n",
      "\n",
      "\n",
      "Cluster 28 Number of samples: 991\n",
      "\n",
      "\n",
      "\n",
      "Cluster 29 Number of samples: 1186\n",
      "\n",
      "\n",
      "\n",
      "Cluster 30 Number of samples: 490\n",
      "\n",
      "\n",
      "\n",
      "Cluster 31 Number of samples: 1526\n",
      "\n",
      "\n",
      "\n",
      "Cluster 32 Number of samples: 1300\n",
      "\n",
      "\n",
      "\n",
      "Cluster 33 Number of samples: 1049\n",
      "\n",
      "\n",
      "\n",
      "Cluster 34 Number of samples: 466\n",
      "\n",
      "\n",
      "\n",
      "Cluster 35 Number of samples: 883\n",
      "\n",
      "\n",
      "\n",
      "Cluster 36 Number of samples: 1322\n",
      "\n",
      "\n",
      "\n",
      "Cluster 37 Number of samples: 191\n",
      "\n",
      "\n",
      "\n",
      "Cluster 38 Number of samples: 1693\n",
      "\n",
      "\n",
      "\n",
      "Cluster 39 Number of samples: 435\n",
      "\n",
      "\n",
      "\n",
      "Cluster 40 Number of samples: 1093\n",
      "\n",
      "\n",
      "\n",
      "Cluster 41 Number of samples: 304\n",
      "\n",
      "\n",
      "\n",
      "Cluster 42 Number of samples: 1115\n",
      "\n",
      "\n",
      "\n",
      "Cluster 43 Number of samples: 1543\n",
      "\n",
      "\n",
      "\n",
      "Cluster 44 Number of samples: 839\n",
      "\n",
      "\n",
      "\n",
      "Cluster 45 Number of samples: 847\n",
      "\n",
      "\n",
      "\n",
      "Cluster 46 Number of samples: 1020\n",
      "\n",
      "\n",
      "\n",
      "Cluster 47 Number of samples: 673\n",
      "\n",
      "\n",
      "\n",
      "Cluster 48 Number of samples: 637\n",
      "\n",
      "\n",
      "\n",
      "Cluster 49 Number of samples: 1206\n",
      "\n",
      "\n",
      "\n",
      "Cluster 50 Number of samples: 664\n",
      "\n",
      "\n",
      "\n",
      "Cluster 51 Number of samples: 152\n",
      "\n",
      "\n",
      "\n",
      "Cluster 52 Number of samples: 695\n",
      "\n",
      "\n",
      "\n",
      "Cluster 53 Number of samples: 939\n",
      "\n",
      "\n",
      "\n",
      "Cluster 54 Number of samples: 22\n",
      "\n",
      "\n",
      "\n",
      "Cluster 55 Number of samples: 184\n",
      "\n",
      "\n",
      "\n",
      "Cluster 56 Number of samples: 21\n",
      "\n",
      "\n",
      "\n",
      "Cluster 57 Number of samples: 1236\n",
      "\n",
      "\n",
      "\n",
      "Cluster 58 Number of samples: 270\n",
      "\n",
      "\n",
      "\n",
      "Cluster 59 Number of samples: 152\n",
      "\n",
      "\n",
      "\n",
      "Cluster 60 Number of samples: 826\n",
      "\n",
      "\n",
      "\n",
      "Cluster 61 Number of samples: 24\n",
      "\n",
      "\n",
      "\n",
      "Cluster 62 Number of samples: 769\n",
      "\n",
      "\n",
      "\n",
      "Cluster 63 Number of samples: 599\n",
      "\n",
      "\n",
      "\n",
      "Cluster 64 Number of samples: 1880\n",
      "\n",
      "\n",
      "\n",
      "Cluster 65 Number of samples: 515\n",
      "\n",
      "\n",
      "\n",
      "Cluster 66 Number of samples: 105\n",
      "\n",
      "\n",
      "\n",
      "Cluster 67 Number of samples: 1034\n",
      "\n",
      "\n",
      "\n",
      "Cluster 68 Number of samples: 63\n",
      "\n",
      "\n",
      "\n",
      "Cluster 69 Number of samples: 645\n",
      "\n",
      "\n",
      "\n",
      "Cluster 70 Number of samples: 1546\n",
      "\n",
      "\n",
      "\n",
      "Cluster 71 Number of samples: 1413\n",
      "\n",
      "\n",
      "\n",
      "Cluster 72 Number of samples: 501\n",
      "\n",
      "\n",
      "\n",
      "Cluster 73 Number of samples: 104\n",
      "\n",
      "\n",
      "\n",
      "Cluster 74 Number of samples: 1233\n",
      "\n",
      "\n",
      "\n",
      "Cluster 75 Number of samples: 11\n",
      "\n",
      "\n",
      "\n",
      "Cluster 76 Number of samples: 147\n",
      "\n",
      "\n",
      "\n",
      "Cluster 77 Number of samples: 410\n",
      "\n",
      "\n",
      "\n",
      "Cluster 78 Number of samples: 867\n",
      "\n",
      "\n",
      "\n",
      "Cluster 79 Number of samples: 453\n",
      "\n",
      "\n",
      "\n",
      "Cluster 80 Number of samples: 324\n",
      "\n",
      "\n",
      "\n",
      "Cluster 81 Number of samples: 438\n",
      "\n",
      "\n",
      "\n",
      "Cluster 82 Number of samples: 908\n",
      "\n",
      "\n",
      "\n",
      "Cluster 83 Number of samples: 417\n",
      "\n",
      "\n",
      "\n",
      "Cluster 84 Number of samples: 10\n",
      "\n",
      "\n",
      "\n",
      "Cluster 85 Number of samples: 42\n",
      "\n",
      "\n",
      "\n",
      "Cluster 86 Number of samples: 328\n",
      "\n",
      "\n",
      "\n",
      "Cluster 87 Number of samples: 255\n",
      "\n",
      "\n",
      "\n",
      "Cluster 88 Number of samples: 198\n",
      "\n",
      "\n",
      "\n",
      "Cluster 89 Number of samples: 55\n",
      "\n",
      "\n",
      "\n",
      "Cluster 90 Number of samples: 0\n",
      "\n",
      "\n",
      "\n",
      "Cluster 91 Number of samples: 10\n",
      "\n",
      "\n",
      "\n"
     ]
    }
   ],
   "source": [
    "import csv\n",
    "import os\n",
    "import seaborn as sns\n",
    "import numpy as np\n",
    "\n",
    "def cluster_set_images(frame, images, cluster_id, groupby, batches=1):\n",
    "    leiden_path    = '{}/results/BarlowTwins_3/{}/h224_w224_n3_zdim128/{}/{}_fold{}/'.format(dbs_path, dataset, meta_folder, groupby.replace('.','p'), fold)\n",
    "    images_path    = os.path.join(leiden_path, 'images')\n",
    "    backtrack_path = os.path.join(leiden_path, 'backtrack')\n",
    "    if not os.path.isdir(images_path):\n",
    "        os.makedirs(images_path)\n",
    "        os.makedirs(backtrack_path)\n",
    "\n",
    "\n",
    "\n",
    "    cluster_frame = frame[frame[groupby].astype(int)==cluster_id]\n",
    "    combined      = cluster_frame.index.tolist()\n",
    "    random.shuffle(combined)\n",
    "    combined_plot = sorted(combined[:100*batches])\n",
    "    # for batch in range(batches):\n",
    "    images_cluster = list()\n",
    "    csv_information = list()\n",
    "    i = 0\n",
    "    # for index in combined_plot[100*batch:100*(batch+1)]:\n",
    "    for index in combined_plot:\n",
    "        images_cluster.append(images[int(index)]/255.)\n",
    "        csv_information.append({index: frame.loc[index].to_dict()})\n",
    "        i += 1\n",
    "        if i==100: break\n",
    "\n",
    "\n",
    "    sns.set_theme(style='white')\n",
    "    fig = plt.figure(figsize=(40, 8))\n",
    "    fig.suptitle('Cluster %s' % (cluster_id), fontsize=18, fontweight='bold')\n",
    "    grid = ImageGrid(fig, 111, nrows_ncols=(5, 20), axes_pad=0.1,)\n",
    "\n",
    "    for ax, im in zip(grid, images_cluster):\n",
    "        ax.imshow(im)\n",
    "        ax.axis('off')\n",
    "        ax.spines['top'].set_visible(False)\n",
    "        ax.spines['right'].set_visible(False)\n",
    "        ax.spines['bottom'].set_visible(False)\n",
    "        ax.spines['left'].set_visible(False)\n",
    "        ax.set_xticks([])\n",
    "        ax.set_yticks([])\n",
    "        ax.set_yticks([])\n",
    "    plt.savefig(os.path.join(images_path,'cluster_%s.jpg' % (cluster_id)), dpi=1000)\n",
    "    plt.close(fig)\n",
    "    \n",
    "\n",
    "\n",
    "    # plt.show()\n",
    "    sns.set_theme(style='darkgrid')\n",
    "\n",
    "    # Tracking file for selected images.\n",
    "    with open(os.path.join(backtrack_path, 'cluster_%s.csv' % (cluster_id)), 'w') as content:\n",
    "        w = csv.DictWriter(content, frame.columns.to_list())\n",
    "        w.writeheader()\n",
    "        for element in csv_information:\n",
    "            for index in element:\n",
    "                w.writerow(element[index])\n",
    "\n",
    "\n",
    "# X = data.training.images\n",
    "# X = np.concatenate((X, data.validation.images), axis=0)\n",
    "# X = np.concatenate((X, data.test.images), axis=0)\n",
    "\n",
    "# clusters_to_review = [1]\n",
    "# clusters_to_remove = [] + clusters_to_review\n",
    "range_clusters = additional_adata.obs[groupby].astype(int).value_counts().shape[0]\n",
    "\n",
    "for cluster_id in range(range_clusters):\n",
    "    data_clusters = additional_adata.obs[additional_adata.obs[groupby].astype(int).isin(range(range_clusters))]\n",
    "    print('Cluster', cluster_id, 'Number of samples:', data_clusters[data_clusters[groupby].astype(int)==cluster_id].shape[0])\n",
    "    # if data_clusters[data_clusters[groupby].astype(int)==cluster_id].shape[0]<20: continue\n",
    "    cluster_set_images(data_clusters, X, cluster_id, groupby, batches=5)\n",
    "    print()\n",
    "    print()\n",
    "    print()"
   ]
  },
  {
   "cell_type": "code",
   "execution_count": 23,
   "id": "c6634a33",
   "metadata": {},
   "outputs": [
    {
     "name": "stdout",
     "output_type": "stream",
     "text": [
      "Number of samples: 6178\n"
     ]
    }
   ],
   "source": [
    "clusters_to_remove = [4,15,23,26,27,34,48,51,54,56,65,66,68,73,75,78,81,84,85,88,90,91,92]\n",
    "fold = 4\n",
    "data_clusters = additional_adata.obs[additional_adata.obs[groupby].astype(int).isin(clusters_to_remove)]\n",
    "print('Number of samples:', data_clusters.shape[0])"
   ]
  },
  {
   "cell_type": "code",
   "execution_count": 24,
   "id": "4c2f8887",
   "metadata": {
    "pycharm": {
     "name": "#%%\n"
    }
   },
   "outputs": [],
   "source": [
    "indexes_remove_path = '{}/files/indexes_to_remove'.format(dbs_path)\n",
    "data_remove_path    = os.path.join(indexes_remove_path, dataset)\n",
    "if not os.path.isdir(data_remove_path):\n",
    "    os.makedirs(data_remove_path)"
   ]
  },
  {
   "cell_type": "code",
   "execution_count": 25,
   "id": "8a4ee20f",
   "metadata": {
    "pycharm": {
     "name": "#%%\n"
    }
   },
   "outputs": [],
   "source": [
    "indexes_set = data_clusters.index.astype(int).values.tolist() \n",
    "\n",
    "set_name = data.training.hdf5_path.split('/hdf5_')[1].replace('.h5', '')\n",
    "pickle_path = os.path.join(data_remove_path, '%s.pkl' % set_name)\n",
    "if len(indexes_set) > 0:\n",
    "    store_data(indexes_set, pickle_path)"
   ]
  },
  {
   "cell_type": "code",
   "execution_count": null,
   "id": "5076f351",
   "metadata": {
    "pycharm": {
     "name": "#%%\n"
    }
   },
   "outputs": [],
   "source": []
  }
 ],
 "metadata": {
  "kernelspec": {
   "display_name": "Python 3 (ipykernel)",
   "language": "python",
   "name": "python3"
  }
 },
 "nbformat": 4,
 "nbformat_minor": 5
}
